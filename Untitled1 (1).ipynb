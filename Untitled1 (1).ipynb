{
  "nbformat": 4,
  "nbformat_minor": 0,
  "metadata": {
    "colab": {
      "provenance": [],
      "collapsed_sections": []
    },
    "kernelspec": {
      "name": "python3",
      "display_name": "Python 3"
    },
    "language_info": {
      "name": "python"
    }
  },
  "cells": [
    {
      "cell_type": "code",
      "execution_count": 1,
      "metadata": {
        "id": "fXF4Tuuip0gQ"
      },
      "outputs": [],
      "source": [
        "import os\n",
        "import shutil\n",
        "import glob\n"
      ]
    },
    {
      "cell_type": "code",
      "source": [
        "import warnings\n",
        "warnings.filterwarnings('ignore')"
      ],
      "metadata": {
        "id": "Y_ioFgferSCc"
      },
      "execution_count": 2,
      "outputs": []
    },
    {
      "cell_type": "code",
      "source": [
        "train_dir = \"./DATASET\"\n",
        "org_dir = \"/content/drive/MyDrive/curvencurve\"\n",
        "CLASS = ['Curve_Images', 'No_Curve_Images']"
      ],
      "metadata": {
        "id": "z66pdRAcrcqG"
      },
      "execution_count": 3,
      "outputs": []
    },
    {
      "cell_type": "code",
      "source": [
        "for c in CLASS:\n",
        "  DEST = os.path.join(train_dir,c)\n",
        "  if not os.path.exists(DEST):\n",
        "    os.makedirs(DEST)\n",
        "  for img_path in glob.glob(os.path.join(org_dir, c)+\"*\"):\n",
        "    SRC = img_path\n",
        "    shutil.copy(SRC, DEST)"
      ],
      "metadata": {
        "id": "WARq7JllsWAi"
      },
      "execution_count": null,
      "outputs": []
    },
    {
      "cell_type": "code",
      "source": [
        "import numpy as np\n",
        "import matplotlib.pyplot as plt\n",
        "import pandas as pd\n",
        "\n",
        "import tensorflow as tf\n",
        "import keras\n",
        "from keras.layers import Dense, Flatten \n",
        "from keras.models import Model\n",
        "from keras.applications.inception_v3 import InceptionV3, preprocess_input\n",
        "from keras.preprocessing.image import ImageDataGenerator, load_img, img_to_array\n"
      ],
      "metadata": {
        "id": "J3-Pmok4vLpM"
      },
      "execution_count": 5,
      "outputs": []
    },
    {
      "cell_type": "code",
      "source": [
        "base_model = InceptionV3(input_shape=(256,256,3), include_top=False)"
      ],
      "metadata": {
        "colab": {
          "base_uri": "https://localhost:8080/"
        },
        "id": "iEjJL7XH5c_1",
        "outputId": "5985aff6-3351-4866-c93f-95667b2a66d9"
      },
      "execution_count": 6,
      "outputs": [
        {
          "output_type": "stream",
          "name": "stdout",
          "text": [
            "Downloading data from https://storage.googleapis.com/tensorflow/keras-applications/inception_v3/inception_v3_weights_tf_dim_ordering_tf_kernels_notop.h5\n",
            "87916544/87910968 [==============================] - 1s 0us/step\n",
            "87924736/87910968 [==============================] - 1s 0us/step\n"
          ]
        }
      ]
    },
    {
      "cell_type": "code",
      "source": [
        "for layer in base_model.layers:\n",
        "  layer.trainable = False\n",
        "  "
      ],
      "metadata": {
        "id": "QGBV1xye8pr3"
      },
      "execution_count": 7,
      "outputs": []
    },
    {
      "cell_type": "code",
      "source": [
        "X = Flatten()(base_model.output)\n",
        "X = Dense(units=2, activation='sigmoid')(X)\n",
        "model = Model(base_model.input, X)\n",
        "model.compile(optimizer= 'adam', loss=keras.losses.binary_crossentropy, metrics=['accuracy'])\n",
        "model.summary()"
      ],
      "metadata": {
        "id": "3biO97Sj9Zcg"
      },
      "execution_count": null,
      "outputs": []
    },
    {
      "cell_type": "code",
      "source": [
        "train_datagen = ImageDataGenerator(featurewise_center=True , \n",
        "                                   rotation_range=0.4, \n",
        "                                   width_shift_range=0.3, \n",
        "                                   horizontal_flip=True, \n",
        "                                   preprocessing_function = preprocess_input, \n",
        "                                   zoom_range=0.4, \n",
        "                                   shear_range=0.4)\n",
        "train_data = train_datagen.flow_from_directory(directory='/content/drive/MyDrive/curvencurve', target_size=(256,256), batch_size=36)"
      ],
      "metadata": {
        "colab": {
          "base_uri": "https://localhost:8080/"
        },
        "id": "BJ1bqOfz-fNE",
        "outputId": "cc454a8a-a9fe-4ce2-e675-7650eabbdd4e"
      },
      "execution_count": 9,
      "outputs": [
        {
          "output_type": "stream",
          "name": "stdout",
          "text": [
            "Found 1000 images belonging to 2 classes.\n"
          ]
        }
      ]
    },
    {
      "cell_type": "code",
      "source": [
        "train_data.class_indices"
      ],
      "metadata": {
        "colab": {
          "base_uri": "https://localhost:8080/"
        },
        "id": "XvPrw1N2Fv0r",
        "outputId": "03a11da8-e8ec-4f11-c8bd-8b855083c962"
      },
      "execution_count": 10,
      "outputs": [
        {
          "output_type": "execute_result",
          "data": {
            "text/plain": [
              "{'Curve_Images': 0, 'No_Curve_Images': 1}"
            ]
          },
          "metadata": {},
          "execution_count": 10
        }
      ]
    },
    {
      "cell_type": "code",
      "source": [
        "t_img, label= train_data.next()"
      ],
      "metadata": {
        "id": "fFYmqnTJF_fd"
      },
      "execution_count": 11,
      "outputs": []
    },
    {
      "cell_type": "code",
      "source": [
        "def plotImages(img_arr, label):\n",
        "  for idx, img in enumerate(img_arr):\n",
        "    if idx<=10:\n",
        "      plt.figure(figsize=(5,5))\n",
        "      plt.imshow(img)\n",
        "      plt.title(img.shape)\n",
        "      plt.axis=False\n",
        "      plt.show()"
      ],
      "metadata": {
        "id": "GqUQXf2hGI4g"
      },
      "execution_count": 12,
      "outputs": []
    },
    {
      "cell_type": "code",
      "source": [
        "plotImages(t_img, label)"
      ],
      "metadata": {
        "id": "Ws_LSQNHHfeq"
      },
      "execution_count": null,
      "outputs": []
    },
    {
      "cell_type": "code",
      "source": [
        "from keras.callbacks import ModelCheckpoint, EarlyStopping\n",
        "mc = ModelCheckpoint(filepath=\"/content/drive/MyDrive/h5/inception_v3_weights_tf_dim_ordering_tf_kernels_notop.h5\",\n",
        "                     monitor=\"accuracy\",\n",
        "                     verbose=1,\n",
        "                     save_best_only = True)\n",
        "es = EarlyStopping(monitor= \"accuracy\",\n",
        "                   min_delta=0.01,\n",
        "                   patience=5,\n",
        "                   verbose=1)\n",
        "cb=[mc, es]"
      ],
      "metadata": {
        "id": "0kx9fROlHvQU"
      },
      "execution_count": 14,
      "outputs": []
    },
    {
      "cell_type": "code",
      "source": [
        "his = model.fit_generator(train_data, steps_per_epoch=10, epochs=30, callbacks=cb)"
      ],
      "metadata": {
        "colab": {
          "base_uri": "https://localhost:8080/"
        },
        "id": "uaUcj4wKLOI8",
        "outputId": "f3f39569-e9ca-4517-9f0a-bffbd92dee0c"
      },
      "execution_count": 21,
      "outputs": [
        {
          "output_type": "stream",
          "name": "stdout",
          "text": [
            "Epoch 1/30\n",
            "10/10 [==============================] - ETA: 0s - loss: 0.4386 - accuracy: 0.9306\n",
            "Epoch 1: accuracy did not improve from 0.96944\n",
            "10/10 [==============================] - 55s 5s/step - loss: 0.4386 - accuracy: 0.9306\n",
            "Epoch 2/30\n",
            "10/10 [==============================] - ETA: 0s - loss: 0.4921 - accuracy: 0.9375\n",
            "Epoch 2: accuracy did not improve from 0.96944\n",
            "10/10 [==============================] - 56s 6s/step - loss: 0.4921 - accuracy: 0.9375\n",
            "Epoch 3/30\n",
            "10/10 [==============================] - ETA: 0s - loss: 0.3686 - accuracy: 0.9361\n",
            "Epoch 3: accuracy did not improve from 0.96944\n",
            "10/10 [==============================] - 55s 5s/step - loss: 0.3686 - accuracy: 0.9361\n",
            "Epoch 4/30\n",
            "10/10 [==============================] - ETA: 0s - loss: 0.3379 - accuracy: 0.9500\n",
            "Epoch 4: accuracy did not improve from 0.96944\n",
            "10/10 [==============================] - 55s 5s/step - loss: 0.3379 - accuracy: 0.9500\n",
            "Epoch 5/30\n",
            "10/10 [==============================] - ETA: 0s - loss: 0.1897 - accuracy: 0.9688\n",
            "Epoch 5: accuracy did not improve from 0.96944\n",
            "10/10 [==============================] - 56s 6s/step - loss: 0.1897 - accuracy: 0.9688\n",
            "Epoch 6/30\n",
            "10/10 [==============================] - ETA: 0s - loss: 0.2193 - accuracy: 0.9611\n",
            "Epoch 6: accuracy did not improve from 0.96944\n",
            "10/10 [==============================] - 55s 5s/step - loss: 0.2193 - accuracy: 0.9611\n",
            "Epoch 7/30\n",
            "10/10 [==============================] - ETA: 0s - loss: 0.2014 - accuracy: 0.9611\n",
            "Epoch 7: accuracy did not improve from 0.96944\n",
            "10/10 [==============================] - 55s 5s/step - loss: 0.2014 - accuracy: 0.9611\n",
            "Epoch 8/30\n",
            "10/10 [==============================] - ETA: 0s - loss: 0.1508 - accuracy: 0.9694\n",
            "Epoch 8: accuracy did not improve from 0.96944\n",
            "10/10 [==============================] - 55s 5s/step - loss: 0.1508 - accuracy: 0.9694\n",
            "Epoch 9/30\n",
            "10/10 [==============================] - ETA: 0s - loss: 0.2000 - accuracy: 0.9556\n",
            "Epoch 9: accuracy did not improve from 0.96944\n",
            "10/10 [==============================] - 55s 5s/step - loss: 0.2000 - accuracy: 0.9556\n",
            "Epoch 10/30\n",
            "10/10 [==============================] - ETA: 0s - loss: 0.4240 - accuracy: 0.9583\n",
            "Epoch 10: accuracy did not improve from 0.96944\n",
            "10/10 [==============================] - 57s 6s/step - loss: 0.4240 - accuracy: 0.9583\n",
            "Epoch 10: early stopping\n"
          ]
        }
      ]
    },
    {
      "cell_type": "code",
      "source": [
        "from keras.models import load_model\n",
        "model=load_model(\"/content/drive/MyDrive/h5/inception_v3_weights_tf_dim_ordering_tf_kernels_notop.h5\")"
      ],
      "metadata": {
        "id": "HKq-q54eQ2zE"
      },
      "execution_count": 16,
      "outputs": []
    },
    {
      "cell_type": "code",
      "source": [
        "h = his.history\n",
        "h.keys()"
      ],
      "metadata": {
        "colab": {
          "base_uri": "https://localhost:8080/"
        },
        "id": "40UuynDCRQRY",
        "outputId": "4371df31-b5fa-4131-fa43-b33853f6dabb"
      },
      "execution_count": 18,
      "outputs": [
        {
          "output_type": "execute_result",
          "data": {
            "text/plain": [
              "dict_keys(['loss', 'accuracy'])"
            ]
          },
          "metadata": {},
          "execution_count": 18
        }
      ]
    },
    {
      "cell_type": "code",
      "source": [
        "plt.plot(h['loss'], 'go--')\n",
        "plt.plot(h['accuracy'], 'go--', c=\"blue\")\n",
        "plt.title(\"Loss vs Acc\")\n",
        "plt.show()"
      ],
      "metadata": {
        "colab": {
          "base_uri": "https://localhost:8080/",
          "height": 281
        },
        "id": "_YunaPDERX2j",
        "outputId": "caa66729-7cdd-4fcf-cc55-530d6b9db00d"
      },
      "execution_count": 19,
      "outputs": [
        {
          "output_type": "display_data",
          "data": {
            "text/plain": [
              "<Figure size 432x288 with 1 Axes>"
            ],
            "image/png": "[encoded data removed]"
          },
          "metadata": {
            "needs_background": "light"
          }
        }
      ]
    },
    {
      "cell_type": "markdown",
      "source": [
        "validate model\n"
      ],
      "metadata": {
        "id": "TMN-56PdTdII"
      }
    },
    {
      "cell_type": "code",
      "source": [
        "path=\"/content/drive/MyDrive/curvencurve/Curve_Images/HAR_AC_132_2_0_2.png\"\n",
        "img = load_img(path, target_size=(256,256))\n",
        "\n",
        "# i = img_to_array(img)*255\n",
        "i = np.array(img/np.amax(img)*255, np.int32)\n",
        "i=preprocess_input(i)\n",
        "input_arr = np.array([i])\n",
        "input_arr.shape\n",
        "\n",
        "pred = np.argmax(model.predict(input_arr))\n",
        "\n",
        "if pred==0:\n",
        "  print(\"1\")\n",
        "else:\n",
        "  print(\"0\")\n",
        "\n",
        "# to display the image\n",
        "plt.imshow(input_arr[0])\n",
        "plt.title(\"Input image:\")\n",
        "plt.axis =False\n",
        "plt.show()"
      ],
      "metadata": {
        "colab": {
          "base_uri": "https://localhost:8080/",
          "height": 316
        },
        "id": "_VXyzJa4SpdJ",
        "outputId": "b0c44ac6-656a-4293-ec44-724f45fe01c1"
      },
      "execution_count": 50,
      "outputs": [
        {
          "output_type": "stream",
          "name": "stderr",
          "text": [
            "WARNING:matplotlib.image:Clipping input data to the valid range for imshow with RGB data ([0..1] for floats or [0..255] for integers).\n"
          ]
        },
        {
          "output_type": "stream",
          "name": "stdout",
          "text": [
            "1\n"
          ]
        },
        {
          "output_type": "display_data",
          "data": {
            "text/plain": [
              "<Figure size 432x288 with 1 Axes>"
            ],
            "image/png": "[encoded data removed]"
          },
          "metadata": {
            "needs_background": "light"
          }
        }
      ]
    },
    {
      "cell_type": "code",
      "source": [
        "!pip install gradio"
      ],
      "metadata": {
        "id": "dQu2QcAU8klt"
      },
      "execution_count": null,
      "outputs": []
    },
    {
      "cell_type": "code",
      "source": [
        "import gradio as gr"
      ],
      "metadata": {
        "id": "DeOSpG1W8xSU"
      },
      "execution_count": 23,
      "outputs": []
    },
    {
      "cell_type": "code",
      "source": [
        "#gradio class\n",
        "def predict_image(img):\n",
        "  img_2d=img.reshape(-1,256,256,3)\n",
        "  img_resize= img_2d\n",
        "  # i = img_to_array(img)*255\n",
        "  # i = np.array(img/np.amax(img)*255, np.int32)\n",
        "  img_resize=preprocess_input(img_resize)\n",
        "  # input_arr = np.array([i])\n",
        "  # input_arr.shape\n",
        "\n",
        "  pred = model.predict(img_resize)[0]\n",
        "\n",
        "  return {CLASS[i]: float(pred[i]) for i in range(2)}\n"
      ],
      "metadata": {
        "id": "xEmSmPpp8AmD"
      },
      "execution_count": 51,
      "outputs": []
    },
    {
      "cell_type": "code",
      "source": [
        "image = gr.inputs.Image(shape=(256,256))\n",
        "label = gr.outputs.Label(num_top_classes=2)\n",
        "gr.Interface(fn=predict_image, inputs=image, outputs=label, capture_session=True).launch(debug='True')"
      ],
      "metadata": {
        "colab": {
          "base_uri": "https://localhost:8080/",
          "height": 591
        },
        "id": "F3IOj3ng9m27",
        "outputId": "b838dfa3-b158-47e6-c3a0-b4dfe9781f4c"
      },
      "execution_count": null,
      "outputs": [
        {
          "output_type": "stream",
          "name": "stdout",
          "text": [
            "Colab notebook detected. This cell will run indefinitely so that you can see errors and logs. To turn off, set debug=False in launch().\n",
            "Running on public URL: https://13667.gradio.app\n",
            "\n",
            "This share link expires in 72 hours. For free permanent hosting, check out Spaces: https://huggingface.co/spaces\n"
          ]
        },
        {
          "output_type": "display_data",
          "data": {
            "text/plain": [
              "<IPython.core.display.HTML object>"
            ],
            "text/html": [
              "<div><iframe src=\"https://13667.gradio.app\" width=\"900\" height=\"500\" allow=\"autoplay; camera; microphone;\" frameborder=\"0\" allowfullscreen></iframe></div>"
            ]
          },
          "metadata": {}
        }
      ]
    }
  ]
}